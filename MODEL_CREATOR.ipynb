{
 "cells": [
  {
   "cell_type": "code",
   "execution_count": 1,
   "id": "1d01c2e2",
   "metadata": {},
   "outputs": [],
   "source": [
    "import tensorflow as tf\n",
    "import pickle\n",
    "\n",
    "import numpy as np\n",
    "import matplotlib.pyplot as plt\n",
    "from tensorflow.keras.layers import Input, Conv2D, Dense, Flatten, Dropout, MaxPool2D\n",
    "from tensorflow.keras.utils import to_categorical\n",
    "from tensorflow.keras.models import Model\n",
    "from glob import glob\n",
    "from PIL import Image\n",
    "from keras.preprocessing import image\n",
    "from keras.preprocessing.image import ImageDataGenerator\n",
    "train_data_generator= ImageDataGenerator(rescale = 1./255,\n",
    "                                        shear_range = 0.2,\n",
    "                                        zoom_range = 0.2,\n",
    "                                        horizontal_flip = True)\n",
    "\n",
    "import pydicom\n",
    "import scipy\n",
    "import cv2\n",
    "import skimage\n",
    "\n"
   ]
  },
  {
   "cell_type": "code",
   "execution_count": 2,
   "id": "91a6d26d",
   "metadata": {},
   "outputs": [
    {
     "name": "stdout",
     "output_type": "stream",
     "text": [
      "Found 148 images belonging to 2 classes.\n",
      "Found 40 images belonging to 2 classes.\n"
     ]
    },
    {
     "name": "stderr",
     "output_type": "stream",
     "text": [
      "2022-02-28 10:39:17.533870: I tensorflow/core/platform/cpu_feature_guard.cc:151] This TensorFlow binary is optimized with oneAPI Deep Neural Network Library (oneDNN) to use the following CPU instructions in performance-critical operations:  AVX2 FMA\n",
      "To enable them in other operations, rebuild TensorFlow with the appropriate compiler flags.\n"
     ]
    }
   ],
   "source": [
    "training_data_path = '/Users/sipebradford/Downloads/Covid-19-detection-from-chest-xray/xray_dataset_covid19/train'\n",
    "test_data_path = '/Users/sipebradford/Downloads/Covid-19-detection-from-chest-xray/xray_dataset_covid19/test'\n",
    "\n",
    "output_classes = len(glob(training_data_path + '/*'))\n",
    "#print('Number of output classes is: ', output_classes)\n",
    "\n",
    "training_files = glob(training_data_path + '/*/*')\n",
    "test_files = glob(test_data_path + '/*/*')\n",
    "#print(len(training_files))\n",
    "#print(len(test_files))\n",
    "\n",
    "test_image = Image.open(training_files[0])\n",
    "test_image = test_image.resize((400,400))\n",
    "\n",
    "##plt.imshow(test_image)\n",
    "##plt.show()\n",
    "\n",
    "test_data_generator = ImageDataGenerator(rescale = 1./255)\n",
    "\n",
    "training_data = train_data_generator.flow_from_directory(training_data_path, target_size = (400,400), batch_size = 4, class_mode = 'binary')\n",
    "\n",
    "test_data = train_data_generator.flow_from_directory(test_data_path, target_size = (400,400), batch_size = 4, class_mode = 'binary')\n",
    "input_layer = Input(shape = (400,400,3))\n",
    "conv1 = Conv2D(32, (3,3), strides = 2, activation = 'relu')(input_layer)\n",
    "maxpool1 = MaxPool2D(2,2)(conv1)\n",
    "conv2 = Conv2D(64, (3,3), strides = 2, activation = 'relu')(maxpool1)\n",
    "maxpool2 = MaxPool2D(pool_size = (2, 2))(conv2)\n",
    "flat1 = Flatten()(maxpool2)\n",
    "dense1 = Dense(256, activation = 'relu')(flat1)\n",
    "output_layer = Dense(1, activation = 'sigmoid')(dense1)\n",
    "model = Model(input_layer, output_layer)"
   ]
  },
  {
   "cell_type": "code",
   "execution_count": null,
   "id": "222e539f",
   "metadata": {},
   "outputs": [
    {
     "name": "stdout",
     "output_type": "stream",
     "text": [
      "Epoch 1/12\n",
      "WARNING:tensorflow:AutoGraph could not transform <function Model.make_train_function.<locals>.train_function at 0x7fc40a815440> and will run it as-is.\n",
      "Please report this to the TensorFlow team. When filing the bug, set the verbosity to 10 (on Linux, `export AUTOGRAPH_VERBOSITY=10`) and attach the full output.\n",
      "Cause: 'arguments' object has no attribute 'posonlyargs'\n",
      "To silence this warning, decorate the function with @tf.autograph.experimental.do_not_convert\n",
      "WARNING: AutoGraph could not transform <function Model.make_train_function.<locals>.train_function at 0x7fc40a815440> and will run it as-is.\n",
      "Please report this to the TensorFlow team. When filing the bug, set the verbosity to 10 (on Linux, `export AUTOGRAPH_VERBOSITY=10`) and attach the full output.\n",
      "Cause: 'arguments' object has no attribute 'posonlyargs'\n",
      "To silence this warning, decorate the function with @tf.autograph.experimental.do_not_convert\n",
      "37/37 [==============================] - ETA: 0s - loss: 0.7982 - accuracy: 0.5946WARNING:tensorflow:AutoGraph could not transform <function Model.make_test_function.<locals>.test_function at 0x7fc3f3cce7a0> and will run it as-is.\n",
      "Please report this to the TensorFlow team. When filing the bug, set the verbosity to 10 (on Linux, `export AUTOGRAPH_VERBOSITY=10`) and attach the full output.\n",
      "Cause: 'arguments' object has no attribute 'posonlyargs'\n",
      "To silence this warning, decorate the function with @tf.autograph.experimental.do_not_convert\n",
      "WARNING: AutoGraph could not transform <function Model.make_test_function.<locals>.test_function at 0x7fc3f3cce7a0> and will run it as-is.\n",
      "Please report this to the TensorFlow team. When filing the bug, set the verbosity to 10 (on Linux, `export AUTOGRAPH_VERBOSITY=10`) and attach the full output.\n",
      "Cause: 'arguments' object has no attribute 'posonlyargs'\n",
      "To silence this warning, decorate the function with @tf.autograph.experimental.do_not_convert\n",
      "37/37 [==============================] - 23s 610ms/step - loss: 0.7982 - accuracy: 0.5946 - val_loss: 0.4310 - val_accuracy: 0.8250\n",
      "Epoch 2/12\n",
      "37/37 [==============================] - 22s 573ms/step - loss: 0.5515 - accuracy: 0.7297 - val_loss: 0.3781 - val_accuracy: 0.7750\n",
      "Epoch 3/12\n",
      "37/37 [==============================] - 21s 567ms/step - loss: 0.4618 - accuracy: 0.7703 - val_loss: 0.2801 - val_accuracy: 0.8000\n",
      "Epoch 4/12\n",
      "37/37 [==============================] - 21s 564ms/step - loss: 0.3285 - accuracy: 0.8649 - val_loss: 0.1537 - val_accuracy: 1.0000\n",
      "Epoch 5/12\n",
      "37/37 [==============================] - 21s 581ms/step - loss: 0.2793 - accuracy: 0.8851 - val_loss: 0.2094 - val_accuracy: 0.9250\n",
      "Epoch 6/12\n",
      "37/37 [==============================] - 21s 572ms/step - loss: 0.2661 - accuracy: 0.9054 - val_loss: 0.2203 - val_accuracy: 0.9500\n",
      "Epoch 7/12\n",
      "37/37 [==============================] - 23s 612ms/step - loss: 0.2670 - accuracy: 0.8986 - val_loss: 0.1495 - val_accuracy: 0.9500\n",
      "Epoch 8/12\n",
      "37/37 [==============================] - 21s 577ms/step - loss: 0.3413 - accuracy: 0.8446 - val_loss: 0.0883 - val_accuracy: 0.9750\n",
      "Epoch 9/12\n",
      "37/37 [==============================] - 23s 613ms/step - loss: 0.1572 - accuracy: 0.9392 - val_loss: 0.0817 - val_accuracy: 1.0000\n",
      "Epoch 10/12\n",
      "37/37 [==============================] - 21s 575ms/step - loss: 0.2284 - accuracy: 0.8986 - val_loss: 0.0791 - val_accuracy: 1.0000\n",
      "Epoch 11/12\n",
      "37/37 [==============================] - 22s 591ms/step - loss: 0.1998 - accuracy: 0.8986 - val_loss: 0.2238 - val_accuracy: 0.9000\n",
      "Epoch 12/12\n",
      "12/37 [========>.....................] - ETA: 11s - loss: 0.1951 - accuracy: 0.8750"
     ]
    }
   ],
   "source": [
    "#compiling the CNN model\n",
    "model.compile(optimizer = 'adam', loss = 'binary_crossentropy', metrics = ['accuracy'])\n",
    "model_history = model.fit(training_data, epochs = 12, validation_data = test_data, verbose = 1)\n",
    "filename = 'finalized_model2.sav'\n",
    "pickle.dump(model, open(filename, 'wb'))"
   ]
  },
  {
   "cell_type": "code",
   "execution_count": null,
   "id": "13c17e1e",
   "metadata": {},
   "outputs": [],
   "source": []
  }
 ],
 "metadata": {
  "kernelspec": {
   "display_name": "Python 3 (ipykernel)",
   "language": "python",
   "name": "python3"
  },
  "language_info": {
   "codemirror_mode": {
    "name": "ipython",
    "version": 3
   },
   "file_extension": ".py",
   "mimetype": "text/x-python",
   "name": "python",
   "nbconvert_exporter": "python",
   "pygments_lexer": "ipython3",
   "version": "3.7.11"
  }
 },
 "nbformat": 4,
 "nbformat_minor": 5
}
